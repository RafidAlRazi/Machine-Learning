{
 "cells": [
  {
   "cell_type": "code",
   "execution_count": 65,
   "id": "b950246a",
   "metadata": {},
   "outputs": [],
   "source": [
    "import pandas as pd\n",
    "import numpy as np\n",
    "import matplotlib.pyplot as plt\n",
    "import seaborn as sns"
   ]
  },
  {
   "cell_type": "code",
   "execution_count": 66,
   "id": "e862f5e9",
   "metadata": {},
   "outputs": [],
   "source": [
    "df = pd.read_excel('insurance2.xlsx')"
   ]
  },
  {
   "cell_type": "code",
   "execution_count": 67,
   "id": "0fd4afdb",
   "metadata": {},
   "outputs": [
    {
     "data": {
      "text/html": [
       "<div>\n",
       "<style scoped>\n",
       "    .dataframe tbody tr th:only-of-type {\n",
       "        vertical-align: middle;\n",
       "    }\n",
       "\n",
       "    .dataframe tbody tr th {\n",
       "        vertical-align: top;\n",
       "    }\n",
       "\n",
       "    .dataframe thead th {\n",
       "        text-align: right;\n",
       "    }\n",
       "</style>\n",
       "<table border=\"1\" class=\"dataframe\">\n",
       "  <thead>\n",
       "    <tr style=\"text-align: right;\">\n",
       "      <th></th>\n",
       "      <th>age</th>\n",
       "      <th>sex</th>\n",
       "      <th>bmi</th>\n",
       "      <th>children</th>\n",
       "      <th>smoker</th>\n",
       "      <th>region</th>\n",
       "      <th>charges</th>\n",
       "    </tr>\n",
       "  </thead>\n",
       "  <tbody>\n",
       "    <tr>\n",
       "      <th>0</th>\n",
       "      <td>19</td>\n",
       "      <td>female</td>\n",
       "      <td>27.900</td>\n",
       "      <td>0</td>\n",
       "      <td>yes</td>\n",
       "      <td>southwest</td>\n",
       "      <td>16884.92400</td>\n",
       "    </tr>\n",
       "    <tr>\n",
       "      <th>1</th>\n",
       "      <td>18</td>\n",
       "      <td>male</td>\n",
       "      <td>33.770</td>\n",
       "      <td>1</td>\n",
       "      <td>no</td>\n",
       "      <td>southeast</td>\n",
       "      <td>1725.55230</td>\n",
       "    </tr>\n",
       "    <tr>\n",
       "      <th>2</th>\n",
       "      <td>28</td>\n",
       "      <td>male</td>\n",
       "      <td>33.000</td>\n",
       "      <td>3</td>\n",
       "      <td>no</td>\n",
       "      <td>southeast</td>\n",
       "      <td>4449.46200</td>\n",
       "    </tr>\n",
       "    <tr>\n",
       "      <th>3</th>\n",
       "      <td>33</td>\n",
       "      <td>male</td>\n",
       "      <td>22.705</td>\n",
       "      <td>0</td>\n",
       "      <td>no</td>\n",
       "      <td>northwest</td>\n",
       "      <td>21984.47061</td>\n",
       "    </tr>\n",
       "    <tr>\n",
       "      <th>4</th>\n",
       "      <td>32</td>\n",
       "      <td>male</td>\n",
       "      <td>28.880</td>\n",
       "      <td>0</td>\n",
       "      <td>no</td>\n",
       "      <td>northwest</td>\n",
       "      <td>3866.85520</td>\n",
       "    </tr>\n",
       "  </tbody>\n",
       "</table>\n",
       "</div>"
      ],
      "text/plain": [
       "   age     sex     bmi  children smoker     region      charges\n",
       "0   19  female  27.900         0    yes  southwest  16884.92400\n",
       "1   18    male  33.770         1     no  southeast   1725.55230\n",
       "2   28    male  33.000         3     no  southeast   4449.46200\n",
       "3   33    male  22.705         0     no  northwest  21984.47061\n",
       "4   32    male  28.880         0     no  northwest   3866.85520"
      ]
     },
     "execution_count": 67,
     "metadata": {},
     "output_type": "execute_result"
    }
   ],
   "source": [
    "df.head()"
   ]
  },
  {
   "cell_type": "code",
   "execution_count": 68,
   "id": "95498b60",
   "metadata": {},
   "outputs": [
    {
     "name": "stdout",
     "output_type": "stream",
     "text": [
      "<class 'pandas.core.frame.DataFrame'>\n",
      "RangeIndex: 1338 entries, 0 to 1337\n",
      "Data columns (total 7 columns):\n",
      " #   Column    Non-Null Count  Dtype  \n",
      "---  ------    --------------  -----  \n",
      " 0   age       1338 non-null   int64  \n",
      " 1   sex       1338 non-null   object \n",
      " 2   bmi       1338 non-null   float64\n",
      " 3   children  1338 non-null   int64  \n",
      " 4   smoker    1338 non-null   object \n",
      " 5   region    1338 non-null   object \n",
      " 6   charges   1338 non-null   float64\n",
      "dtypes: float64(2), int64(2), object(3)\n",
      "memory usage: 73.3+ KB\n"
     ]
    }
   ],
   "source": [
    "df.info()"
   ]
  },
  {
   "cell_type": "code",
   "execution_count": 69,
   "id": "2dc9ea00",
   "metadata": {},
   "outputs": [
    {
     "data": {
      "text/plain": [
       "age         0\n",
       "sex         0\n",
       "bmi         0\n",
       "children    0\n",
       "smoker      0\n",
       "region      0\n",
       "charges     0\n",
       "dtype: int64"
      ]
     },
     "execution_count": 69,
     "metadata": {},
     "output_type": "execute_result"
    }
   ],
   "source": [
    "df.isna().sum()"
   ]
  },
  {
   "cell_type": "code",
   "execution_count": 70,
   "id": "ed1b27ef",
   "metadata": {},
   "outputs": [
    {
     "data": {
      "text/plain": [
       "age           47\n",
       "sex            2\n",
       "bmi          548\n",
       "children       6\n",
       "smoker         2\n",
       "region         4\n",
       "charges     1337\n",
       "dtype: int64"
      ]
     },
     "execution_count": 70,
     "metadata": {},
     "output_type": "execute_result"
    }
   ],
   "source": [
    "df.nunique()"
   ]
  },
  {
   "cell_type": "code",
   "execution_count": 71,
   "id": "9ac41b0e",
   "metadata": {},
   "outputs": [],
   "source": [
    "df1 = pd.get_dummies(df,drop_first='True').astype(int)"
   ]
  },
  {
   "cell_type": "code",
   "execution_count": 72,
   "id": "bf9b477d",
   "metadata": {},
   "outputs": [
    {
     "data": {
      "text/html": [
       "<div>\n",
       "<style scoped>\n",
       "    .dataframe tbody tr th:only-of-type {\n",
       "        vertical-align: middle;\n",
       "    }\n",
       "\n",
       "    .dataframe tbody tr th {\n",
       "        vertical-align: top;\n",
       "    }\n",
       "\n",
       "    .dataframe thead th {\n",
       "        text-align: right;\n",
       "    }\n",
       "</style>\n",
       "<table border=\"1\" class=\"dataframe\">\n",
       "  <thead>\n",
       "    <tr style=\"text-align: right;\">\n",
       "      <th></th>\n",
       "      <th>age</th>\n",
       "      <th>bmi</th>\n",
       "      <th>children</th>\n",
       "      <th>charges</th>\n",
       "      <th>sex_male</th>\n",
       "      <th>smoker_yes</th>\n",
       "      <th>region_northwest</th>\n",
       "      <th>region_southeast</th>\n",
       "      <th>region_southwest</th>\n",
       "    </tr>\n",
       "  </thead>\n",
       "  <tbody>\n",
       "    <tr>\n",
       "      <th>0</th>\n",
       "      <td>19</td>\n",
       "      <td>27</td>\n",
       "      <td>0</td>\n",
       "      <td>16884</td>\n",
       "      <td>0</td>\n",
       "      <td>1</td>\n",
       "      <td>0</td>\n",
       "      <td>0</td>\n",
       "      <td>1</td>\n",
       "    </tr>\n",
       "    <tr>\n",
       "      <th>1</th>\n",
       "      <td>18</td>\n",
       "      <td>33</td>\n",
       "      <td>1</td>\n",
       "      <td>1725</td>\n",
       "      <td>1</td>\n",
       "      <td>0</td>\n",
       "      <td>0</td>\n",
       "      <td>1</td>\n",
       "      <td>0</td>\n",
       "    </tr>\n",
       "    <tr>\n",
       "      <th>2</th>\n",
       "      <td>28</td>\n",
       "      <td>33</td>\n",
       "      <td>3</td>\n",
       "      <td>4449</td>\n",
       "      <td>1</td>\n",
       "      <td>0</td>\n",
       "      <td>0</td>\n",
       "      <td>1</td>\n",
       "      <td>0</td>\n",
       "    </tr>\n",
       "    <tr>\n",
       "      <th>3</th>\n",
       "      <td>33</td>\n",
       "      <td>22</td>\n",
       "      <td>0</td>\n",
       "      <td>21984</td>\n",
       "      <td>1</td>\n",
       "      <td>0</td>\n",
       "      <td>1</td>\n",
       "      <td>0</td>\n",
       "      <td>0</td>\n",
       "    </tr>\n",
       "    <tr>\n",
       "      <th>4</th>\n",
       "      <td>32</td>\n",
       "      <td>28</td>\n",
       "      <td>0</td>\n",
       "      <td>3866</td>\n",
       "      <td>1</td>\n",
       "      <td>0</td>\n",
       "      <td>1</td>\n",
       "      <td>0</td>\n",
       "      <td>0</td>\n",
       "    </tr>\n",
       "  </tbody>\n",
       "</table>\n",
       "</div>"
      ],
      "text/plain": [
       "   age  bmi  children  charges  sex_male  smoker_yes  region_northwest  \\\n",
       "0   19   27         0    16884         0           1                 0   \n",
       "1   18   33         1     1725         1           0                 0   \n",
       "2   28   33         3     4449         1           0                 0   \n",
       "3   33   22         0    21984         1           0                 1   \n",
       "4   32   28         0     3866         1           0                 1   \n",
       "\n",
       "   region_southeast  region_southwest  \n",
       "0                 0                 1  \n",
       "1                 1                 0  \n",
       "2                 1                 0  \n",
       "3                 0                 0  \n",
       "4                 0                 0  "
      ]
     },
     "execution_count": 72,
     "metadata": {},
     "output_type": "execute_result"
    }
   ],
   "source": [
    "df1.head()"
   ]
  },
  {
   "cell_type": "code",
   "execution_count": 73,
   "id": "32e8bf11",
   "metadata": {},
   "outputs": [
    {
     "data": {
      "text/html": [
       "<div>\n",
       "<style scoped>\n",
       "    .dataframe tbody tr th:only-of-type {\n",
       "        vertical-align: middle;\n",
       "    }\n",
       "\n",
       "    .dataframe tbody tr th {\n",
       "        vertical-align: top;\n",
       "    }\n",
       "\n",
       "    .dataframe thead th {\n",
       "        text-align: right;\n",
       "    }\n",
       "</style>\n",
       "<table border=\"1\" class=\"dataframe\">\n",
       "  <thead>\n",
       "    <tr style=\"text-align: right;\">\n",
       "      <th></th>\n",
       "      <th>age</th>\n",
       "      <th>bmi</th>\n",
       "      <th>children</th>\n",
       "      <th>charges</th>\n",
       "      <th>sex_male</th>\n",
       "      <th>smoker_yes</th>\n",
       "      <th>region_northwest</th>\n",
       "      <th>region_southeast</th>\n",
       "      <th>region_southwest</th>\n",
       "    </tr>\n",
       "  </thead>\n",
       "  <tbody>\n",
       "    <tr>\n",
       "      <th>count</th>\n",
       "      <td>1338.000000</td>\n",
       "      <td>1338.000000</td>\n",
       "      <td>1338.000000</td>\n",
       "      <td>1338.000000</td>\n",
       "      <td>1338.000000</td>\n",
       "      <td>1338.000000</td>\n",
       "      <td>1338.000000</td>\n",
       "      <td>1338.000000</td>\n",
       "      <td>1338.000000</td>\n",
       "    </tr>\n",
       "    <tr>\n",
       "      <th>mean</th>\n",
       "      <td>39.207025</td>\n",
       "      <td>30.169656</td>\n",
       "      <td>1.094918</td>\n",
       "      <td>13269.928999</td>\n",
       "      <td>0.505232</td>\n",
       "      <td>0.204783</td>\n",
       "      <td>0.242900</td>\n",
       "      <td>0.272048</td>\n",
       "      <td>0.242900</td>\n",
       "    </tr>\n",
       "    <tr>\n",
       "      <th>std</th>\n",
       "      <td>14.049960</td>\n",
       "      <td>6.119875</td>\n",
       "      <td>1.205493</td>\n",
       "      <td>12110.012755</td>\n",
       "      <td>0.500160</td>\n",
       "      <td>0.403694</td>\n",
       "      <td>0.428995</td>\n",
       "      <td>0.445181</td>\n",
       "      <td>0.428995</td>\n",
       "    </tr>\n",
       "    <tr>\n",
       "      <th>min</th>\n",
       "      <td>18.000000</td>\n",
       "      <td>15.000000</td>\n",
       "      <td>0.000000</td>\n",
       "      <td>1121.000000</td>\n",
       "      <td>0.000000</td>\n",
       "      <td>0.000000</td>\n",
       "      <td>0.000000</td>\n",
       "      <td>0.000000</td>\n",
       "      <td>0.000000</td>\n",
       "    </tr>\n",
       "    <tr>\n",
       "      <th>25%</th>\n",
       "      <td>27.000000</td>\n",
       "      <td>26.000000</td>\n",
       "      <td>0.000000</td>\n",
       "      <td>4740.000000</td>\n",
       "      <td>0.000000</td>\n",
       "      <td>0.000000</td>\n",
       "      <td>0.000000</td>\n",
       "      <td>0.000000</td>\n",
       "      <td>0.000000</td>\n",
       "    </tr>\n",
       "    <tr>\n",
       "      <th>50%</th>\n",
       "      <td>39.000000</td>\n",
       "      <td>30.000000</td>\n",
       "      <td>1.000000</td>\n",
       "      <td>9381.500000</td>\n",
       "      <td>1.000000</td>\n",
       "      <td>0.000000</td>\n",
       "      <td>0.000000</td>\n",
       "      <td>0.000000</td>\n",
       "      <td>0.000000</td>\n",
       "    </tr>\n",
       "    <tr>\n",
       "      <th>75%</th>\n",
       "      <td>51.000000</td>\n",
       "      <td>34.000000</td>\n",
       "      <td>2.000000</td>\n",
       "      <td>16639.250000</td>\n",
       "      <td>1.000000</td>\n",
       "      <td>0.000000</td>\n",
       "      <td>0.000000</td>\n",
       "      <td>1.000000</td>\n",
       "      <td>0.000000</td>\n",
       "    </tr>\n",
       "    <tr>\n",
       "      <th>max</th>\n",
       "      <td>64.000000</td>\n",
       "      <td>53.000000</td>\n",
       "      <td>5.000000</td>\n",
       "      <td>63770.000000</td>\n",
       "      <td>1.000000</td>\n",
       "      <td>1.000000</td>\n",
       "      <td>1.000000</td>\n",
       "      <td>1.000000</td>\n",
       "      <td>1.000000</td>\n",
       "    </tr>\n",
       "  </tbody>\n",
       "</table>\n",
       "</div>"
      ],
      "text/plain": [
       "               age          bmi     children       charges     sex_male  \\\n",
       "count  1338.000000  1338.000000  1338.000000   1338.000000  1338.000000   \n",
       "mean     39.207025    30.169656     1.094918  13269.928999     0.505232   \n",
       "std      14.049960     6.119875     1.205493  12110.012755     0.500160   \n",
       "min      18.000000    15.000000     0.000000   1121.000000     0.000000   \n",
       "25%      27.000000    26.000000     0.000000   4740.000000     0.000000   \n",
       "50%      39.000000    30.000000     1.000000   9381.500000     1.000000   \n",
       "75%      51.000000    34.000000     2.000000  16639.250000     1.000000   \n",
       "max      64.000000    53.000000     5.000000  63770.000000     1.000000   \n",
       "\n",
       "        smoker_yes  region_northwest  region_southeast  region_southwest  \n",
       "count  1338.000000       1338.000000       1338.000000       1338.000000  \n",
       "mean      0.204783          0.242900          0.272048          0.242900  \n",
       "std       0.403694          0.428995          0.445181          0.428995  \n",
       "min       0.000000          0.000000          0.000000          0.000000  \n",
       "25%       0.000000          0.000000          0.000000          0.000000  \n",
       "50%       0.000000          0.000000          0.000000          0.000000  \n",
       "75%       0.000000          0.000000          1.000000          0.000000  \n",
       "max       1.000000          1.000000          1.000000          1.000000  "
      ]
     },
     "execution_count": 73,
     "metadata": {},
     "output_type": "execute_result"
    }
   ],
   "source": [
    "df1.describe()"
   ]
  },
  {
   "cell_type": "code",
   "execution_count": 74,
   "id": "d2e1ee2f",
   "metadata": {},
   "outputs": [
    {
     "data": {
      "text/html": [
       "<div>\n",
       "<style scoped>\n",
       "    .dataframe tbody tr th:only-of-type {\n",
       "        vertical-align: middle;\n",
       "    }\n",
       "\n",
       "    .dataframe tbody tr th {\n",
       "        vertical-align: top;\n",
       "    }\n",
       "\n",
       "    .dataframe thead th {\n",
       "        text-align: right;\n",
       "    }\n",
       "</style>\n",
       "<table border=\"1\" class=\"dataframe\">\n",
       "  <thead>\n",
       "    <tr style=\"text-align: right;\">\n",
       "      <th></th>\n",
       "      <th>count</th>\n",
       "      <th>mean</th>\n",
       "      <th>std</th>\n",
       "      <th>min</th>\n",
       "      <th>25%</th>\n",
       "      <th>50%</th>\n",
       "      <th>75%</th>\n",
       "      <th>max</th>\n",
       "    </tr>\n",
       "  </thead>\n",
       "  <tbody>\n",
       "    <tr>\n",
       "      <th>age</th>\n",
       "      <td>1338.0</td>\n",
       "      <td>39.207025</td>\n",
       "      <td>14.049960</td>\n",
       "      <td>18.0</td>\n",
       "      <td>27.0</td>\n",
       "      <td>39.0</td>\n",
       "      <td>51.00</td>\n",
       "      <td>64.0</td>\n",
       "    </tr>\n",
       "    <tr>\n",
       "      <th>bmi</th>\n",
       "      <td>1338.0</td>\n",
       "      <td>30.169656</td>\n",
       "      <td>6.119875</td>\n",
       "      <td>15.0</td>\n",
       "      <td>26.0</td>\n",
       "      <td>30.0</td>\n",
       "      <td>34.00</td>\n",
       "      <td>53.0</td>\n",
       "    </tr>\n",
       "    <tr>\n",
       "      <th>children</th>\n",
       "      <td>1338.0</td>\n",
       "      <td>1.094918</td>\n",
       "      <td>1.205493</td>\n",
       "      <td>0.0</td>\n",
       "      <td>0.0</td>\n",
       "      <td>1.0</td>\n",
       "      <td>2.00</td>\n",
       "      <td>5.0</td>\n",
       "    </tr>\n",
       "    <tr>\n",
       "      <th>charges</th>\n",
       "      <td>1338.0</td>\n",
       "      <td>13269.928999</td>\n",
       "      <td>12110.012755</td>\n",
       "      <td>1121.0</td>\n",
       "      <td>4740.0</td>\n",
       "      <td>9381.5</td>\n",
       "      <td>16639.25</td>\n",
       "      <td>63770.0</td>\n",
       "    </tr>\n",
       "    <tr>\n",
       "      <th>sex_male</th>\n",
       "      <td>1338.0</td>\n",
       "      <td>0.505232</td>\n",
       "      <td>0.500160</td>\n",
       "      <td>0.0</td>\n",
       "      <td>0.0</td>\n",
       "      <td>1.0</td>\n",
       "      <td>1.00</td>\n",
       "      <td>1.0</td>\n",
       "    </tr>\n",
       "    <tr>\n",
       "      <th>smoker_yes</th>\n",
       "      <td>1338.0</td>\n",
       "      <td>0.204783</td>\n",
       "      <td>0.403694</td>\n",
       "      <td>0.0</td>\n",
       "      <td>0.0</td>\n",
       "      <td>0.0</td>\n",
       "      <td>0.00</td>\n",
       "      <td>1.0</td>\n",
       "    </tr>\n",
       "    <tr>\n",
       "      <th>region_northwest</th>\n",
       "      <td>1338.0</td>\n",
       "      <td>0.242900</td>\n",
       "      <td>0.428995</td>\n",
       "      <td>0.0</td>\n",
       "      <td>0.0</td>\n",
       "      <td>0.0</td>\n",
       "      <td>0.00</td>\n",
       "      <td>1.0</td>\n",
       "    </tr>\n",
       "    <tr>\n",
       "      <th>region_southeast</th>\n",
       "      <td>1338.0</td>\n",
       "      <td>0.272048</td>\n",
       "      <td>0.445181</td>\n",
       "      <td>0.0</td>\n",
       "      <td>0.0</td>\n",
       "      <td>0.0</td>\n",
       "      <td>1.00</td>\n",
       "      <td>1.0</td>\n",
       "    </tr>\n",
       "    <tr>\n",
       "      <th>region_southwest</th>\n",
       "      <td>1338.0</td>\n",
       "      <td>0.242900</td>\n",
       "      <td>0.428995</td>\n",
       "      <td>0.0</td>\n",
       "      <td>0.0</td>\n",
       "      <td>0.0</td>\n",
       "      <td>0.00</td>\n",
       "      <td>1.0</td>\n",
       "    </tr>\n",
       "  </tbody>\n",
       "</table>\n",
       "</div>"
      ],
      "text/plain": [
       "                   count          mean           std     min     25%     50%  \\\n",
       "age               1338.0     39.207025     14.049960    18.0    27.0    39.0   \n",
       "bmi               1338.0     30.169656      6.119875    15.0    26.0    30.0   \n",
       "children          1338.0      1.094918      1.205493     0.0     0.0     1.0   \n",
       "charges           1338.0  13269.928999  12110.012755  1121.0  4740.0  9381.5   \n",
       "sex_male          1338.0      0.505232      0.500160     0.0     0.0     1.0   \n",
       "smoker_yes        1338.0      0.204783      0.403694     0.0     0.0     0.0   \n",
       "region_northwest  1338.0      0.242900      0.428995     0.0     0.0     0.0   \n",
       "region_southeast  1338.0      0.272048      0.445181     0.0     0.0     0.0   \n",
       "region_southwest  1338.0      0.242900      0.428995     0.0     0.0     0.0   \n",
       "\n",
       "                       75%      max  \n",
       "age                  51.00     64.0  \n",
       "bmi                  34.00     53.0  \n",
       "children              2.00      5.0  \n",
       "charges           16639.25  63770.0  \n",
       "sex_male              1.00      1.0  \n",
       "smoker_yes            0.00      1.0  \n",
       "region_northwest      0.00      1.0  \n",
       "region_southeast      1.00      1.0  \n",
       "region_southwest      0.00      1.0  "
      ]
     },
     "execution_count": 74,
     "metadata": {},
     "output_type": "execute_result"
    }
   ],
   "source": [
    "df1.describe().T"
   ]
  },
  {
   "cell_type": "markdown",
   "id": "2d4b7ef7",
   "metadata": {},
   "source": [
    "# Data Visualization"
   ]
  },
  {
   "cell_type": "code",
   "execution_count": 75,
   "id": "acf4d49c",
   "metadata": {},
   "outputs": [
    {
     "data": {
      "text/plain": [
       "<seaborn.axisgrid.FacetGrid at 0x1d5f5bd0d50>"
      ]
     },
     "execution_count": 75,
     "metadata": {},
     "output_type": "execute_result"
    },
    {
     "data": {
      "text/plain": [
       "<Figure size 1200x1200 with 0 Axes>"
      ]
     },
     "metadata": {},
     "output_type": "display_data"
    },
    {
     "data": {
      "image/png": "[encoded data removed]",
      "text/plain": [
       "<Figure size 500x500 with 1 Axes>"
      ]
     },
     "metadata": {},
     "output_type": "display_data"
    }
   ],
   "source": [
    "plt.figure(figsize=(12,12))\n",
    "sns.displot(df1['charges'])"
   ]
  },
  {
   "cell_type": "code",
   "execution_count": 76,
   "id": "0d4f88a0",
   "metadata": {},
   "outputs": [
    {
     "data": {
      "text/plain": [
       "<Axes: >"
      ]
     },
     "execution_count": 76,
     "metadata": {},
     "output_type": "execute_result"
    },
    {
     "data": {
      "image/png": "[encoded data removed]",
      "text/plain": [
       "<Figure size 2000x2000 with 2 Axes>"
      ]
     },
     "metadata": {},
     "output_type": "display_data"
    }
   ],
   "source": [
    "plt.figure(figsize=(20,20))\n",
    "sns.heatmap(df1.corr(),annot=True)"
   ]
  },
  {
   "cell_type": "code",
   "execution_count": 77,
   "id": "1120efd0",
   "metadata": {},
   "outputs": [],
   "source": [
    "x = df1.drop('charges',axis=1)\n",
    "y = df1['charges']"
   ]
  },
  {
   "cell_type": "code",
   "execution_count": 78,
   "id": "e6b520e5",
   "metadata": {},
   "outputs": [],
   "source": [
    "from sklearn.model_selection import train_test_split as tts\n",
    "xtrain,xtest,ytrain,ytest = tts(x,y,test_size=0.3,random_state=78)"
   ]
  },
  {
   "cell_type": "code",
   "execution_count": 79,
   "id": "93aca6bd",
   "metadata": {},
   "outputs": [
    {
     "data": {
      "text/html": [
       "<div>\n",
       "<style scoped>\n",
       "    .dataframe tbody tr th:only-of-type {\n",
       "        vertical-align: middle;\n",
       "    }\n",
       "\n",
       "    .dataframe tbody tr th {\n",
       "        vertical-align: top;\n",
       "    }\n",
       "\n",
       "    .dataframe thead th {\n",
       "        text-align: right;\n",
       "    }\n",
       "</style>\n",
       "<table border=\"1\" class=\"dataframe\">\n",
       "  <thead>\n",
       "    <tr style=\"text-align: right;\">\n",
       "      <th></th>\n",
       "      <th>age</th>\n",
       "      <th>bmi</th>\n",
       "      <th>children</th>\n",
       "      <th>sex_male</th>\n",
       "      <th>smoker_yes</th>\n",
       "      <th>region_northwest</th>\n",
       "      <th>region_southeast</th>\n",
       "      <th>region_southwest</th>\n",
       "    </tr>\n",
       "  </thead>\n",
       "  <tbody>\n",
       "    <tr>\n",
       "      <th>62</th>\n",
       "      <td>64</td>\n",
       "      <td>24</td>\n",
       "      <td>1</td>\n",
       "      <td>1</td>\n",
       "      <td>0</td>\n",
       "      <td>1</td>\n",
       "      <td>0</td>\n",
       "      <td>0</td>\n",
       "    </tr>\n",
       "    <tr>\n",
       "      <th>861</th>\n",
       "      <td>38</td>\n",
       "      <td>28</td>\n",
       "      <td>3</td>\n",
       "      <td>0</td>\n",
       "      <td>0</td>\n",
       "      <td>0</td>\n",
       "      <td>0</td>\n",
       "      <td>1</td>\n",
       "    </tr>\n",
       "    <tr>\n",
       "      <th>973</th>\n",
       "      <td>19</td>\n",
       "      <td>40</td>\n",
       "      <td>0</td>\n",
       "      <td>0</td>\n",
       "      <td>0</td>\n",
       "      <td>0</td>\n",
       "      <td>0</td>\n",
       "      <td>1</td>\n",
       "    </tr>\n",
       "    <tr>\n",
       "      <th>209</th>\n",
       "      <td>40</td>\n",
       "      <td>41</td>\n",
       "      <td>1</td>\n",
       "      <td>1</td>\n",
       "      <td>0</td>\n",
       "      <td>0</td>\n",
       "      <td>0</td>\n",
       "      <td>0</td>\n",
       "    </tr>\n",
       "    <tr>\n",
       "      <th>849</th>\n",
       "      <td>55</td>\n",
       "      <td>32</td>\n",
       "      <td>0</td>\n",
       "      <td>1</td>\n",
       "      <td>0</td>\n",
       "      <td>1</td>\n",
       "      <td>0</td>\n",
       "      <td>0</td>\n",
       "    </tr>\n",
       "  </tbody>\n",
       "</table>\n",
       "</div>"
      ],
      "text/plain": [
       "     age  bmi  children  sex_male  smoker_yes  region_northwest  \\\n",
       "62    64   24         1         1           0                 1   \n",
       "861   38   28         3         0           0                 0   \n",
       "973   19   40         0         0           0                 0   \n",
       "209   40   41         1         1           0                 0   \n",
       "849   55   32         0         1           0                 1   \n",
       "\n",
       "     region_southeast  region_southwest  \n",
       "62                  0                 0  \n",
       "861                 0                 1  \n",
       "973                 0                 1  \n",
       "209                 0                 0  \n",
       "849                 0                 0  "
      ]
     },
     "execution_count": 79,
     "metadata": {},
     "output_type": "execute_result"
    }
   ],
   "source": [
    "xtrain.head()"
   ]
  },
  {
   "cell_type": "code",
   "execution_count": 80,
   "id": "4aa49985",
   "metadata": {},
   "outputs": [
    {
     "data": {
      "text/plain": [
       "62     30166\n",
       "861     7151\n",
       "973     1759\n",
       "209     6610\n",
       "849    10601\n",
       "Name: charges, dtype: int32"
      ]
     },
     "execution_count": 80,
     "metadata": {},
     "output_type": "execute_result"
    }
   ],
   "source": [
    "ytrain.head()"
   ]
  },
  {
   "cell_type": "code",
   "execution_count": 81,
   "id": "3a012252",
   "metadata": {},
   "outputs": [
    {
     "data": {
      "text/html": [
       "<div>\n",
       "<style scoped>\n",
       "    .dataframe tbody tr th:only-of-type {\n",
       "        vertical-align: middle;\n",
       "    }\n",
       "\n",
       "    .dataframe tbody tr th {\n",
       "        vertical-align: top;\n",
       "    }\n",
       "\n",
       "    .dataframe thead th {\n",
       "        text-align: right;\n",
       "    }\n",
       "</style>\n",
       "<table border=\"1\" class=\"dataframe\">\n",
       "  <thead>\n",
       "    <tr style=\"text-align: right;\">\n",
       "      <th></th>\n",
       "      <th>age</th>\n",
       "      <th>bmi</th>\n",
       "      <th>children</th>\n",
       "      <th>sex_male</th>\n",
       "      <th>smoker_yes</th>\n",
       "      <th>region_northwest</th>\n",
       "      <th>region_southeast</th>\n",
       "      <th>region_southwest</th>\n",
       "    </tr>\n",
       "  </thead>\n",
       "  <tbody>\n",
       "    <tr>\n",
       "      <th>160</th>\n",
       "      <td>42</td>\n",
       "      <td>26</td>\n",
       "      <td>0</td>\n",
       "      <td>0</td>\n",
       "      <td>1</td>\n",
       "      <td>1</td>\n",
       "      <td>0</td>\n",
       "      <td>0</td>\n",
       "    </tr>\n",
       "    <tr>\n",
       "      <th>1326</th>\n",
       "      <td>42</td>\n",
       "      <td>32</td>\n",
       "      <td>0</td>\n",
       "      <td>0</td>\n",
       "      <td>0</td>\n",
       "      <td>0</td>\n",
       "      <td>0</td>\n",
       "      <td>0</td>\n",
       "    </tr>\n",
       "    <tr>\n",
       "      <th>544</th>\n",
       "      <td>54</td>\n",
       "      <td>30</td>\n",
       "      <td>0</td>\n",
       "      <td>1</td>\n",
       "      <td>0</td>\n",
       "      <td>1</td>\n",
       "      <td>0</td>\n",
       "      <td>0</td>\n",
       "    </tr>\n",
       "    <tr>\n",
       "      <th>624</th>\n",
       "      <td>59</td>\n",
       "      <td>28</td>\n",
       "      <td>0</td>\n",
       "      <td>1</td>\n",
       "      <td>0</td>\n",
       "      <td>1</td>\n",
       "      <td>0</td>\n",
       "      <td>0</td>\n",
       "    </tr>\n",
       "    <tr>\n",
       "      <th>914</th>\n",
       "      <td>33</td>\n",
       "      <td>24</td>\n",
       "      <td>2</td>\n",
       "      <td>1</td>\n",
       "      <td>0</td>\n",
       "      <td>1</td>\n",
       "      <td>0</td>\n",
       "      <td>0</td>\n",
       "    </tr>\n",
       "  </tbody>\n",
       "</table>\n",
       "</div>"
      ],
      "text/plain": [
       "      age  bmi  children  sex_male  smoker_yes  region_northwest  \\\n",
       "160    42   26         0         0           1                 1   \n",
       "1326   42   32         0         0           0                 0   \n",
       "544    54   30         0         1           0                 1   \n",
       "624    59   28         0         1           0                 1   \n",
       "914    33   24         2         1           0                 1   \n",
       "\n",
       "      region_southeast  region_southwest  \n",
       "160                  0                 0  \n",
       "1326                 0                 0  \n",
       "544                  0                 0  \n",
       "624                  0                 0  \n",
       "914                  0                 0  "
      ]
     },
     "execution_count": 81,
     "metadata": {},
     "output_type": "execute_result"
    }
   ],
   "source": [
    "xtest.head()"
   ]
  },
  {
   "cell_type": "code",
   "execution_count": 82,
   "id": "f5a278f2",
   "metadata": {},
   "outputs": [],
   "source": [
    "from sklearn.linear_model import LinearRegression\n",
    "reg = LinearRegression()"
   ]
  },
  {
   "cell_type": "code",
   "execution_count": 83,
   "id": "0f3f636f",
   "metadata": {},
   "outputs": [
    {
     "data": {
      "text/html": [
       "<style>#sk-container-id-3 {color: black;background-color: white;}#sk-container-id-3 pre{padding: 0;}#sk-container-id-3 div.sk-toggleable {background-color: white;}#sk-container-id-3 label.sk-toggleable__label {cursor: pointer;display: block;width: 100%;margin-bottom: 0;padding: 0.3em;box-sizing: border-box;text-align: center;}#sk-container-id-3 label.sk-toggleable__label-arrow:before {content: \"▸\";float: left;margin-right: 0.25em;color: #696969;}#sk-container-id-3 label.sk-toggleable__label-arrow:hover:before {color: black;}#sk-container-id-3 div.sk-estimator:hover label.sk-toggleable__label-arrow:before {color: black;}#sk-container-id-3 div.sk-toggleable__content {max-height: 0;max-width: 0;overflow: hidden;text-align: left;background-color: #f0f8ff;}#sk-container-id-3 div.sk-toggleable__content pre {margin: 0.2em;color: black;border-radius: 0.25em;background-color: #f0f8ff;}#sk-container-id-3 input.sk-toggleable__control:checked~div.sk-toggleable__content {max-height: 200px;max-width: 100%;overflow: auto;}#sk-container-id-3 input.sk-toggleable__control:checked~label.sk-toggleable__label-arrow:before {content: \"▾\";}#sk-container-id-3 div.sk-estimator input.sk-toggleable__control:checked~label.sk-toggleable__label {background-color: #d4ebff;}#sk-container-id-3 div.sk-label input.sk-toggleable__control:checked~label.sk-toggleable__label {background-color: #d4ebff;}#sk-container-id-3 input.sk-hidden--visually {border: 0;clip: rect(1px 1px 1px 1px);clip: rect(1px, 1px, 1px, 1px);height: 1px;margin: -1px;overflow: hidden;padding: 0;position: absolute;width: 1px;}#sk-container-id-3 div.sk-estimator {font-family: monospace;background-color: #f0f8ff;border: 1px dotted black;border-radius: 0.25em;box-sizing: border-box;margin-bottom: 0.5em;}#sk-container-id-3 div.sk-estimator:hover {background-color: #d4ebff;}#sk-container-id-3 div.sk-parallel-item::after {content: \"\";width: 100%;border-bottom: 1px solid gray;flex-grow: 1;}#sk-container-id-3 div.sk-label:hover label.sk-toggleable__label {background-color: #d4ebff;}#sk-container-id-3 div.sk-serial::before {content: \"\";position: absolute;border-left: 1px solid gray;box-sizing: border-box;top: 0;bottom: 0;left: 50%;z-index: 0;}#sk-container-id-3 div.sk-serial {display: flex;flex-direction: column;align-items: center;background-color: white;padding-right: 0.2em;padding-left: 0.2em;position: relative;}#sk-container-id-3 div.sk-item {position: relative;z-index: 1;}#sk-container-id-3 div.sk-parallel {display: flex;align-items: stretch;justify-content: center;background-color: white;position: relative;}#sk-container-id-3 div.sk-item::before, #sk-container-id-3 div.sk-parallel-item::before {content: \"\";position: absolute;border-left: 1px solid gray;box-sizing: border-box;top: 0;bottom: 0;left: 50%;z-index: -1;}#sk-container-id-3 div.sk-parallel-item {display: flex;flex-direction: column;z-index: 1;position: relative;background-color: white;}#sk-container-id-3 div.sk-parallel-item:first-child::after {align-self: flex-end;width: 50%;}#sk-container-id-3 div.sk-parallel-item:last-child::after {align-self: flex-start;width: 50%;}#sk-container-id-3 div.sk-parallel-item:only-child::after {width: 0;}#sk-container-id-3 div.sk-dashed-wrapped {border: 1px dashed gray;margin: 0 0.4em 0.5em 0.4em;box-sizing: border-box;padding-bottom: 0.4em;background-color: white;}#sk-container-id-3 div.sk-label label {font-family: monospace;font-weight: bold;display: inline-block;line-height: 1.2em;}#sk-container-id-3 div.sk-label-container {text-align: center;}#sk-container-id-3 div.sk-container {/* jupyter's `normalize.less` sets `[hidden] { display: none; }` but bootstrap.min.css set `[hidden] { display: none !important; }` so we also need the `!important` here to be able to override the default hidden behavior on the sphinx rendered scikit-learn.org. See: https://github.com/scikit-learn/scikit-learn/issues/21755 */display: inline-block !important;position: relative;}#sk-container-id-3 div.sk-text-repr-fallback {display: none;}</style><div id=\"sk-container-id-3\" class=\"sk-top-container\"><div class=\"sk-text-repr-fallback\"><pre>LinearRegression()</pre><b>In a Jupyter environment, please rerun this cell to show the HTML representation or trust the notebook. <br />On GitHub, the HTML representation is unable to render, please try loading this page with nbviewer.org.</b></div><div class=\"sk-container\" hidden><div class=\"sk-item\"><div class=\"sk-estimator sk-toggleable\"><input class=\"sk-toggleable__control sk-hidden--visually\" id=\"sk-estimator-id-3\" type=\"checkbox\" checked><label for=\"sk-estimator-id-3\" class=\"sk-toggleable__label sk-toggleable__label-arrow\">LinearRegression</label><div class=\"sk-toggleable__content\"><pre>LinearRegression()</pre></div></div></div></div></div>"
      ],
      "text/plain": [
       "LinearRegression()"
      ]
     },
     "execution_count": 83,
     "metadata": {},
     "output_type": "execute_result"
    }
   ],
   "source": [
    "reg.fit(xtrain,ytrain)"
   ]
  },
  {
   "cell_type": "code",
   "execution_count": 84,
   "id": "84ca1791",
   "metadata": {},
   "outputs": [
    {
     "data": {
      "text/plain": [
       "array([31778.30775701,  9922.72179583, 11911.91022321, 12550.05776367,\n",
       "        5269.26475863, 14956.37145788,  7000.07725648,  9906.28272201,\n",
       "       31587.20379237, 35745.39855955,  7877.40277983, 10319.86498212,\n",
       "        3323.44783882, 10027.44856168, 35972.50637242,  5749.40356481,\n",
       "        7086.8590348 , 30734.83490394, 29323.5372536 , 34460.10908492,\n",
       "       14996.21240023, 11426.97545119,  3962.05089451,  1749.67304713,\n",
       "        9030.53345465, 31304.9534421 , 30128.74362544,  2757.37591899,\n",
       "       10489.24923089, 29955.31228713,  3271.08193754,  8209.34352422,\n",
       "        3136.27470855, 15254.08956875, 31136.6848974 , 10573.95570711,\n",
       "        3259.28940202, 11717.82494882,   540.71258197, 13936.03773043,\n",
       "         295.36037238,  8737.71749138,  9501.87777304, 27810.67941418,\n",
       "       13360.58330415,  6182.55059932,  7594.54720169, 13901.62185339,\n",
       "        2795.84527896, 25706.94748424,  4921.723279  ,  4045.44176075,\n",
       "        9178.32115779,  8444.6408821 ,  -725.42887029,  7303.15806687,\n",
       "       12572.81115854,  6560.12901121, 11774.08319029, 35407.945403  ,\n",
       "        4697.59173917, 11228.69174893,  6074.36523381,  1352.59726332,\n",
       "        7326.85358157,  5468.23042442, 11177.73090141, 13140.70305627,\n",
       "       27587.47327469,  2752.01825617,  8417.40236067, 11006.74169297,\n",
       "       10286.60834002,  8534.81595451,  9435.44916492,  3042.6025423 ,\n",
       "       10300.90442416,  2641.01272364, 11819.77078206, 11939.11025046,\n",
       "        7338.39050779, 11227.57604487, 11348.03121732, 33141.10268527,\n",
       "       10730.64883141, 10094.31594703,  6056.77625822,  5916.20678688,\n",
       "       32092.11532313, 11840.60124218,  4748.44669004,  6787.23682407,\n",
       "       16481.95461947,  6200.13957491,  3774.42224902,  -594.09696046,\n",
       "       33903.94735695, 29405.17344752, 14520.35404699, 14909.71255289,\n",
       "       39642.9180325 ,  2239.42794168, 16553.18157543,  2910.63221832,\n",
       "       35657.23348367,  7655.26881353, 10552.18074516,  8557.21763392,\n",
       "       11572.15342396,  5059.51181773,  6314.92651426, 10372.03097748,\n",
       "        7925.83281003, 40059.52009653, 14971.32845719,  6362.42876213,\n",
       "        7635.2485239 , 11826.70470088, 31250.46679705,  4612.2126326 ,\n",
       "        5427.42320556,  5584.07279897, 31071.37199334,  1768.12211747,\n",
       "       11654.54381598,   921.99276132,  6573.8256466 , 18487.70045884,\n",
       "        3655.08278062, 11226.60473164, 38018.97529018,  4702.34417413,\n",
       "       13280.51832952,  6937.49507567, 12065.12299165,  2910.63221832,\n",
       "       15747.77529767,  4732.97892944,  9097.28990664, 16445.67817345,\n",
       "        4372.17455495, 10700.42900023, 12531.60869333, 12969.10358326,\n",
       "       31777.35319568,  9605.53236571,  2743.47937768, 10181.42102225,\n",
       "        5707.76945596, 37890.52619824, 40347.12810962, 12650.94816172,\n",
       "       11512.89713476, 16376.26825559, 37631.08210691,  8727.84579371,\n",
       "       10599.79421149, 11465.79442972,  3822.69113648,  5544.85857409,\n",
       "       17588.62201483,  6117.03302165,  8396.57190055,  8130.04995689,\n",
       "       16876.63229402, 12156.30787146, 41212.63934126, 27446.94229753,\n",
       "       12769.33306878,  7012.21912547, 33012.96872909, 14258.63978435,\n",
       "       34002.20075591, 34385.34150424,  1902.92934646, 14397.53925945,\n",
       "        3193.22686535, 13049.51817646, 25804.05143876,  4719.53790336,\n",
       "       14022.73748369,  6378.9737326 ,  8021.36554526,  7414.15856269,\n",
       "       13278.4865583 , 14488.97974856, 12021.9561577 , 12458.41736863,\n",
       "       14369.18476495, -1382.98004243, 12330.85014614, 11916.76883992,\n",
       "        4445.62652566, 10759.26826839, 10273.2613232 ,  4966.79421281,\n",
       "       28430.382921  , 12442.90607715, 34381.44916404, 11058.44740541,\n",
       "        8486.84143954,  6982.987327  , 15327.74144537,  4438.23709162,\n",
       "        4794.13428181, 33147.77595808,  8113.0059403 , 11095.34050939,\n",
       "        6016.64166971, 11117.03106426,   976.71827768, 11867.83976361,\n",
       "       24345.22976586,  2036.78201411, 11893.46115287,  8938.32661102,\n",
       "       36966.12978555,  3858.26863048, 11687.34494285, 31281.14670893,\n",
       "        3342.80793961,  7316.69995291,  7633.36618023, 11530.65181855,\n",
       "        9201.16161444,  3254.03792096,   794.40376413,  9926.55816363,\n",
       "       10611.30936301, 29679.08482523,  6280.39941876,   -96.93591238,\n",
       "       27753.45489619, 11364.90403167, 36391.06347201, 34923.05416187,\n",
       "        9905.13282024, 29309.64071229,  8897.64706351,  7869.68550192,\n",
       "        9204.00994952, 10391.17396314, 11152.06359927,  6130.18469805,\n",
       "       31532.45650131,  8092.6360321 ,  9568.39582493, 14699.80989935,\n",
       "        5876.58295966, 32534.84020453, 14084.39188217,  6368.86363483,\n",
       "       31808.29375357, 31487.22442477, 15500.35784549,  5048.63031265,\n",
       "        7248.41077581,  5396.35470971,  8545.53631685,  1638.17350519,\n",
       "       39266.25568776,  4431.92989027,  9019.34614699,  9973.16182255,\n",
       "       37928.80021777,  6944.16834847,  1340.45539433,  5337.66515419,\n",
       "       12910.92450394, 34205.34069288, 10533.36560337,  3546.89741511,\n",
       "       10684.99973382, 26665.19304029,  7446.610071  , 12841.55811696,\n",
       "       10059.03997523, 34252.91566503, 10708.30742087,  8867.16705755,\n",
       "       12845.96121844,  9182.7125441 ,  5317.33374018,  6852.07243821,\n",
       "        7129.07130742,  1604.71218948,  9908.56964521,  2283.71047969,\n",
       "        2678.86542565,  3706.78849306, 15234.17517578,  8924.17446041,\n",
       "        8933.92350954,  8824.45573882,  9185.25507661,  7357.09518744,\n",
       "        4833.75810903,  7859.81380425,  3652.041202  ,   579.99211243,\n",
       "       32349.69884548, 28716.52057476,   389.48805386, 16105.24874386,\n",
       "        3914.33153152, 35275.97507902, 10642.28841509, 32949.37702597,\n",
       "       10065.75677892,  1955.75076296,  4786.05595525,  8160.46969398,\n",
       "       11321.68195165,  1757.96848881,  8982.81409166,  6392.41475869,\n",
       "        7740.8913569 , 31658.06969968,  5115.14836454,  6712.01372816,\n",
       "        3136.27470855,  4157.56299734, 29702.89155839,   463.62891708,\n",
       "       15426.25045365, 26245.1156571 , 28651.4728822 , 14143.54227471,\n",
       "       10733.03022118, 35240.17590441,  -608.44901699, 26784.53250868,\n",
       "       13092.88968402, 35750.55631646, 37906.89758447, 12784.80082937,\n",
       "        7289.00087955, 14138.18461189, 32301.00816927, 15635.82526332,\n",
       "        2906.39025956,   182.9548228 , 34809.11588718,  3566.2575159 ,\n",
       "        5754.72273345, 14650.81342056,  6578.11752962,  4734.55014873,\n",
       "       15379.13603343,  3199.55584139,  3251.06164791,  6942.85273849,\n",
       "       37311.87838378,  7427.70548544, -1746.71715908,  3637.48447186,\n",
       "       27172.38216107, -2143.44332433, 13047.5923019 , 11499.71126066,\n",
       "        9897.48823422, 11594.78848067,  4802.9287696 ,  2992.01280293,\n",
       "        5952.00596149, 11399.77542394,  9110.98654203, 39494.05311947,\n",
       "        9139.04666403, 31812.18609376,  9731.76222203,  1892.32020258,\n",
       "       10789.32695684, 12241.73050892,  6690.23876621, 15186.25590688,\n",
       "        7136.66064737, 11610.25624126, 17821.29243314,  9180.35292901,\n",
       "       10501.21989764,  7468.09568326,  3106.03310269, 39951.00688715,\n",
       "       10667.17235813, 10853.22978433,  3230.7302339 , 31660.0454985 ,\n",
       "       37811.82036447, 12364.76697707,  8099.76985683,  6769.73729226,\n",
       "        9103.72477934,  3962.05089451, 11428.55170718, 28467.27602498,\n",
       "        9839.3091549 , 15452.08895802,  3182.66125235, 28554.51331853,\n",
       "       33688.81954402,  7006.29501406])"
      ]
     },
     "execution_count": 84,
     "metadata": {},
     "output_type": "execute_result"
    }
   ],
   "source": [
    "pred = reg.predict(xtest)\n",
    "pred"
   ]
  },
  {
   "cell_type": "code",
   "execution_count": 85,
   "id": "5c52f6a0",
   "metadata": {},
   "outputs": [
    {
     "data": {
      "text/html": [
       "<div>\n",
       "<style scoped>\n",
       "    .dataframe tbody tr th:only-of-type {\n",
       "        vertical-align: middle;\n",
       "    }\n",
       "\n",
       "    .dataframe tbody tr th {\n",
       "        vertical-align: top;\n",
       "    }\n",
       "\n",
       "    .dataframe thead th {\n",
       "        text-align: right;\n",
       "    }\n",
       "</style>\n",
       "<table border=\"1\" class=\"dataframe\">\n",
       "  <thead>\n",
       "    <tr style=\"text-align: right;\">\n",
       "      <th></th>\n",
       "      <th>Actual</th>\n",
       "      <th>Prediction</th>\n",
       "      <th>Difference</th>\n",
       "    </tr>\n",
       "  </thead>\n",
       "  <tbody>\n",
       "    <tr>\n",
       "      <th>160</th>\n",
       "      <td>21348</td>\n",
       "      <td>31778.307757</td>\n",
       "      <td>10430.307757</td>\n",
       "    </tr>\n",
       "    <tr>\n",
       "      <th>1326</th>\n",
       "      <td>7050</td>\n",
       "      <td>9922.721796</td>\n",
       "      <td>2872.721796</td>\n",
       "    </tr>\n",
       "    <tr>\n",
       "      <th>544</th>\n",
       "      <td>10231</td>\n",
       "      <td>11911.910223</td>\n",
       "      <td>1680.910223</td>\n",
       "    </tr>\n",
       "    <tr>\n",
       "      <th>624</th>\n",
       "      <td>12129</td>\n",
       "      <td>12550.057764</td>\n",
       "      <td>421.057764</td>\n",
       "    </tr>\n",
       "    <tr>\n",
       "      <th>914</th>\n",
       "      <td>5257</td>\n",
       "      <td>5269.264759</td>\n",
       "      <td>12.264759</td>\n",
       "    </tr>\n",
       "  </tbody>\n",
       "</table>\n",
       "</div>"
      ],
      "text/plain": [
       "      Actual    Prediction    Difference\n",
       "160    21348  31778.307757  10430.307757\n",
       "1326    7050   9922.721796   2872.721796\n",
       "544    10231  11911.910223   1680.910223\n",
       "624    12129  12550.057764    421.057764\n",
       "914     5257   5269.264759     12.264759"
      ]
     },
     "execution_count": 85,
     "metadata": {},
     "output_type": "execute_result"
    }
   ],
   "source": [
    "df_pred = pd.DataFrame({'Actual': ytest, 'Prediction': pred, 'Difference': abs(ytest-pred)})\n",
    "df_pred.head()"
   ]
  },
  {
   "cell_type": "code",
   "execution_count": 86,
   "id": "ddbe66fa",
   "metadata": {},
   "outputs": [
    {
     "data": {
      "text/plain": [
       "array([  263.80127993,   340.42942959,   469.87899576,    52.36590128,\n",
       "       24446.09651262,  -547.93397387, -1188.44112942, -1205.48514601])"
      ]
     },
     "execution_count": 86,
     "metadata": {},
     "output_type": "execute_result"
    }
   ],
   "source": [
    "m = reg.coef_\n",
    "m"
   ]
  },
  {
   "cell_type": "code",
   "execution_count": 87,
   "id": "4df2971c",
   "metadata": {},
   "outputs": [
    {
     "data": {
      "text/plain": [
       "-12050.673708265187"
      ]
     },
     "execution_count": 87,
     "metadata": {},
     "output_type": "execute_result"
    }
   ],
   "source": [
    "c = reg.intercept_\n",
    "c"
   ]
  },
  {
   "cell_type": "code",
   "execution_count": 88,
   "id": "bc003f59",
   "metadata": {},
   "outputs": [],
   "source": [
    "Log_score = reg.score(xtest,ytest)"
   ]
  },
  {
   "cell_type": "code",
   "execution_count": 89,
   "id": "e114818e",
   "metadata": {},
   "outputs": [
    {
     "data": {
      "text/plain": [
       "0.7213754975609934"
      ]
     },
     "execution_count": 89,
     "metadata": {},
     "output_type": "execute_result"
    }
   ],
   "source": [
    "Log_score"
   ]
  },
  {
   "cell_type": "code",
   "execution_count": 90,
   "id": "5a992397",
   "metadata": {},
   "outputs": [],
   "source": [
    "from sklearn.metrics import mean_absolute_error,mean_squared_error"
   ]
  },
  {
   "cell_type": "code",
   "execution_count": 91,
   "id": "656402c8",
   "metadata": {},
   "outputs": [
    {
     "data": {
      "text/plain": [
       "160     21348\n",
       "1326     7050\n",
       "544     10231\n",
       "624     12129\n",
       "914      5257\n",
       "Name: charges, dtype: int32"
      ]
     },
     "execution_count": 91,
     "metadata": {},
     "output_type": "execute_result"
    }
   ],
   "source": [
    "ytest.head()"
   ]
  },
  {
   "cell_type": "code",
   "execution_count": 92,
   "id": "c1641431",
   "metadata": {},
   "outputs": [],
   "source": [
    "mae1 = mean_absolute_error(ytest,pred)"
   ]
  },
  {
   "cell_type": "code",
   "execution_count": 93,
   "id": "be701ced",
   "metadata": {},
   "outputs": [
    {
     "data": {
      "text/plain": [
       "4173.4991703404075"
      ]
     },
     "execution_count": 93,
     "metadata": {},
     "output_type": "execute_result"
    }
   ],
   "source": [
    "mae1"
   ]
  },
  {
   "cell_type": "code",
   "execution_count": 94,
   "id": "0e6e4a55",
   "metadata": {},
   "outputs": [],
   "source": [
    "mse1 = mean_squared_error(ytest,pred)"
   ]
  },
  {
   "cell_type": "code",
   "execution_count": 95,
   "id": "01ee3e9f",
   "metadata": {},
   "outputs": [
    {
     "data": {
      "text/plain": [
       "36202474.84617753"
      ]
     },
     "execution_count": 95,
     "metadata": {},
     "output_type": "execute_result"
    }
   ],
   "source": [
    "mse1"
   ]
  },
  {
   "cell_type": "code",
   "execution_count": 96,
   "id": "52072a5f",
   "metadata": {},
   "outputs": [],
   "source": [
    "data = {'Name':['Logistic_mae','Logistic_mse','Logistic_accuracy'],\n",
    "       'Accuracy':[mae1,mse1,Log_score]}\n",
    "df_after_pred = pd.DataFrame(data=data)"
   ]
  },
  {
   "cell_type": "code",
   "execution_count": 97,
   "id": "d1e5ec66",
   "metadata": {},
   "outputs": [
    {
     "data": {
      "text/html": [
       "<div>\n",
       "<style scoped>\n",
       "    .dataframe tbody tr th:only-of-type {\n",
       "        vertical-align: middle;\n",
       "    }\n",
       "\n",
       "    .dataframe tbody tr th {\n",
       "        vertical-align: top;\n",
       "    }\n",
       "\n",
       "    .dataframe thead th {\n",
       "        text-align: right;\n",
       "    }\n",
       "</style>\n",
       "<table border=\"1\" class=\"dataframe\">\n",
       "  <thead>\n",
       "    <tr style=\"text-align: right;\">\n",
       "      <th></th>\n",
       "      <th>Name</th>\n",
       "      <th>Accuracy</th>\n",
       "    </tr>\n",
       "  </thead>\n",
       "  <tbody>\n",
       "    <tr>\n",
       "      <th>0</th>\n",
       "      <td>Logistic_mae</td>\n",
       "      <td>4.173499e+03</td>\n",
       "    </tr>\n",
       "    <tr>\n",
       "      <th>1</th>\n",
       "      <td>Logistic_mse</td>\n",
       "      <td>3.620247e+07</td>\n",
       "    </tr>\n",
       "    <tr>\n",
       "      <th>2</th>\n",
       "      <td>Logistic_accuracy</td>\n",
       "      <td>7.213755e-01</td>\n",
       "    </tr>\n",
       "  </tbody>\n",
       "</table>\n",
       "</div>"
      ],
      "text/plain": [
       "                Name      Accuracy\n",
       "0       Logistic_mae  4.173499e+03\n",
       "1       Logistic_mse  3.620247e+07\n",
       "2  Logistic_accuracy  7.213755e-01"
      ]
     },
     "execution_count": 97,
     "metadata": {},
     "output_type": "execute_result"
    }
   ],
   "source": [
    "df_after_pred.head()"
   ]
  },
  {
   "cell_type": "code",
   "execution_count": 98,
   "id": "4ee29e82",
   "metadata": {},
   "outputs": [
    {
     "data": {
      "text/plain": [
       "<Axes: xlabel='Accuracy', ylabel='Name'>"
      ]
     },
     "execution_count": 98,
     "metadata": {},
     "output_type": "execute_result"
    },
    {
     "data": {
      "image/png": "[encoded data removed]",
      "text/plain": [
       "<Figure size 640x480 with 1 Axes>"
      ]
     },
     "metadata": {},
     "output_type": "display_data"
    }
   ],
   "source": [
    "sns.barplot(x='Accuracy',y='Name',data=df_after_pred)"
   ]
  },
  {
   "cell_type": "markdown",
   "id": "03023c19",
   "metadata": {},
   "source": [
    "# Applying KNN"
   ]
  },
  {
   "cell_type": "code",
   "execution_count": 99,
   "id": "6e246c15",
   "metadata": {},
   "outputs": [
    {
     "data": {
      "text/html": [
       "<div>\n",
       "<style scoped>\n",
       "    .dataframe tbody tr th:only-of-type {\n",
       "        vertical-align: middle;\n",
       "    }\n",
       "\n",
       "    .dataframe tbody tr th {\n",
       "        vertical-align: top;\n",
       "    }\n",
       "\n",
       "    .dataframe thead th {\n",
       "        text-align: right;\n",
       "    }\n",
       "</style>\n",
       "<table border=\"1\" class=\"dataframe\">\n",
       "  <thead>\n",
       "    <tr style=\"text-align: right;\">\n",
       "      <th></th>\n",
       "      <th>age</th>\n",
       "      <th>sex</th>\n",
       "      <th>bmi</th>\n",
       "      <th>children</th>\n",
       "      <th>smoker</th>\n",
       "      <th>region</th>\n",
       "      <th>charges</th>\n",
       "    </tr>\n",
       "  </thead>\n",
       "  <tbody>\n",
       "    <tr>\n",
       "      <th>0</th>\n",
       "      <td>19</td>\n",
       "      <td>female</td>\n",
       "      <td>27.900</td>\n",
       "      <td>0</td>\n",
       "      <td>yes</td>\n",
       "      <td>southwest</td>\n",
       "      <td>16884.92400</td>\n",
       "    </tr>\n",
       "    <tr>\n",
       "      <th>1</th>\n",
       "      <td>18</td>\n",
       "      <td>male</td>\n",
       "      <td>33.770</td>\n",
       "      <td>1</td>\n",
       "      <td>no</td>\n",
       "      <td>southeast</td>\n",
       "      <td>1725.55230</td>\n",
       "    </tr>\n",
       "    <tr>\n",
       "      <th>2</th>\n",
       "      <td>28</td>\n",
       "      <td>male</td>\n",
       "      <td>33.000</td>\n",
       "      <td>3</td>\n",
       "      <td>no</td>\n",
       "      <td>southeast</td>\n",
       "      <td>4449.46200</td>\n",
       "    </tr>\n",
       "    <tr>\n",
       "      <th>3</th>\n",
       "      <td>33</td>\n",
       "      <td>male</td>\n",
       "      <td>22.705</td>\n",
       "      <td>0</td>\n",
       "      <td>no</td>\n",
       "      <td>northwest</td>\n",
       "      <td>21984.47061</td>\n",
       "    </tr>\n",
       "    <tr>\n",
       "      <th>4</th>\n",
       "      <td>32</td>\n",
       "      <td>male</td>\n",
       "      <td>28.880</td>\n",
       "      <td>0</td>\n",
       "      <td>no</td>\n",
       "      <td>northwest</td>\n",
       "      <td>3866.85520</td>\n",
       "    </tr>\n",
       "  </tbody>\n",
       "</table>\n",
       "</div>"
      ],
      "text/plain": [
       "   age     sex     bmi  children smoker     region      charges\n",
       "0   19  female  27.900         0    yes  southwest  16884.92400\n",
       "1   18    male  33.770         1     no  southeast   1725.55230\n",
       "2   28    male  33.000         3     no  southeast   4449.46200\n",
       "3   33    male  22.705         0     no  northwest  21984.47061\n",
       "4   32    male  28.880         0     no  northwest   3866.85520"
      ]
     },
     "execution_count": 99,
     "metadata": {},
     "output_type": "execute_result"
    }
   ],
   "source": [
    "df.head()"
   ]
  },
  {
   "cell_type": "code",
   "execution_count": 100,
   "id": "5802cfe6",
   "metadata": {},
   "outputs": [],
   "source": [
    "df2 = df.copy()"
   ]
  },
  {
   "cell_type": "code",
   "execution_count": 101,
   "id": "81485a76",
   "metadata": {},
   "outputs": [],
   "source": [
    "from sklearn.preprocessing import LabelEncoder"
   ]
  },
  {
   "cell_type": "code",
   "execution_count": 102,
   "id": "144d3b04",
   "metadata": {},
   "outputs": [],
   "source": [
    "le = LabelEncoder()"
   ]
  },
  {
   "cell_type": "code",
   "execution_count": 103,
   "id": "e641a0b0",
   "metadata": {},
   "outputs": [
    {
     "data": {
      "text/html": [
       "<div>\n",
       "<style scoped>\n",
       "    .dataframe tbody tr th:only-of-type {\n",
       "        vertical-align: middle;\n",
       "    }\n",
       "\n",
       "    .dataframe tbody tr th {\n",
       "        vertical-align: top;\n",
       "    }\n",
       "\n",
       "    .dataframe thead th {\n",
       "        text-align: right;\n",
       "    }\n",
       "</style>\n",
       "<table border=\"1\" class=\"dataframe\">\n",
       "  <thead>\n",
       "    <tr style=\"text-align: right;\">\n",
       "      <th></th>\n",
       "      <th>age</th>\n",
       "      <th>sex</th>\n",
       "      <th>bmi</th>\n",
       "      <th>children</th>\n",
       "      <th>smoker</th>\n",
       "      <th>region</th>\n",
       "      <th>charges</th>\n",
       "    </tr>\n",
       "  </thead>\n",
       "  <tbody>\n",
       "    <tr>\n",
       "      <th>0</th>\n",
       "      <td>19</td>\n",
       "      <td>female</td>\n",
       "      <td>27.900</td>\n",
       "      <td>0</td>\n",
       "      <td>yes</td>\n",
       "      <td>southwest</td>\n",
       "      <td>16884.92400</td>\n",
       "    </tr>\n",
       "    <tr>\n",
       "      <th>1</th>\n",
       "      <td>18</td>\n",
       "      <td>male</td>\n",
       "      <td>33.770</td>\n",
       "      <td>1</td>\n",
       "      <td>no</td>\n",
       "      <td>southeast</td>\n",
       "      <td>1725.55230</td>\n",
       "    </tr>\n",
       "    <tr>\n",
       "      <th>2</th>\n",
       "      <td>28</td>\n",
       "      <td>male</td>\n",
       "      <td>33.000</td>\n",
       "      <td>3</td>\n",
       "      <td>no</td>\n",
       "      <td>southeast</td>\n",
       "      <td>4449.46200</td>\n",
       "    </tr>\n",
       "    <tr>\n",
       "      <th>3</th>\n",
       "      <td>33</td>\n",
       "      <td>male</td>\n",
       "      <td>22.705</td>\n",
       "      <td>0</td>\n",
       "      <td>no</td>\n",
       "      <td>northwest</td>\n",
       "      <td>21984.47061</td>\n",
       "    </tr>\n",
       "    <tr>\n",
       "      <th>4</th>\n",
       "      <td>32</td>\n",
       "      <td>male</td>\n",
       "      <td>28.880</td>\n",
       "      <td>0</td>\n",
       "      <td>no</td>\n",
       "      <td>northwest</td>\n",
       "      <td>3866.85520</td>\n",
       "    </tr>\n",
       "  </tbody>\n",
       "</table>\n",
       "</div>"
      ],
      "text/plain": [
       "   age     sex     bmi  children smoker     region      charges\n",
       "0   19  female  27.900         0    yes  southwest  16884.92400\n",
       "1   18    male  33.770         1     no  southeast   1725.55230\n",
       "2   28    male  33.000         3     no  southeast   4449.46200\n",
       "3   33    male  22.705         0     no  northwest  21984.47061\n",
       "4   32    male  28.880         0     no  northwest   3866.85520"
      ]
     },
     "execution_count": 103,
     "metadata": {},
     "output_type": "execute_result"
    }
   ],
   "source": [
    "df2.head()"
   ]
  },
  {
   "cell_type": "code",
   "execution_count": 104,
   "id": "8ff9e437",
   "metadata": {},
   "outputs": [],
   "source": [
    "from pandas.core.dtypes.common import is_numeric_dtype"
   ]
  },
  {
   "cell_type": "code",
   "execution_count": 105,
   "id": "fb712a64",
   "metadata": {},
   "outputs": [],
   "source": [
    "for i in df2.columns:\n",
    "    if is_numeric_dtype(df2[i]):\n",
    "        continue\n",
    "    else:\n",
    "        df2[i] = le.fit_transform(df2[i])"
   ]
  },
  {
   "cell_type": "code",
   "execution_count": 106,
   "id": "671cf3b0",
   "metadata": {},
   "outputs": [
    {
     "data": {
      "text/html": [
       "<div>\n",
       "<style scoped>\n",
       "    .dataframe tbody tr th:only-of-type {\n",
       "        vertical-align: middle;\n",
       "    }\n",
       "\n",
       "    .dataframe tbody tr th {\n",
       "        vertical-align: top;\n",
       "    }\n",
       "\n",
       "    .dataframe thead th {\n",
       "        text-align: right;\n",
       "    }\n",
       "</style>\n",
       "<table border=\"1\" class=\"dataframe\">\n",
       "  <thead>\n",
       "    <tr style=\"text-align: right;\">\n",
       "      <th></th>\n",
       "      <th>age</th>\n",
       "      <th>sex</th>\n",
       "      <th>bmi</th>\n",
       "      <th>children</th>\n",
       "      <th>smoker</th>\n",
       "      <th>region</th>\n",
       "      <th>charges</th>\n",
       "    </tr>\n",
       "  </thead>\n",
       "  <tbody>\n",
       "    <tr>\n",
       "      <th>0</th>\n",
       "      <td>19</td>\n",
       "      <td>0</td>\n",
       "      <td>27.900</td>\n",
       "      <td>0</td>\n",
       "      <td>1</td>\n",
       "      <td>3</td>\n",
       "      <td>16884.92400</td>\n",
       "    </tr>\n",
       "    <tr>\n",
       "      <th>1</th>\n",
       "      <td>18</td>\n",
       "      <td>1</td>\n",
       "      <td>33.770</td>\n",
       "      <td>1</td>\n",
       "      <td>0</td>\n",
       "      <td>2</td>\n",
       "      <td>1725.55230</td>\n",
       "    </tr>\n",
       "    <tr>\n",
       "      <th>2</th>\n",
       "      <td>28</td>\n",
       "      <td>1</td>\n",
       "      <td>33.000</td>\n",
       "      <td>3</td>\n",
       "      <td>0</td>\n",
       "      <td>2</td>\n",
       "      <td>4449.46200</td>\n",
       "    </tr>\n",
       "    <tr>\n",
       "      <th>3</th>\n",
       "      <td>33</td>\n",
       "      <td>1</td>\n",
       "      <td>22.705</td>\n",
       "      <td>0</td>\n",
       "      <td>0</td>\n",
       "      <td>1</td>\n",
       "      <td>21984.47061</td>\n",
       "    </tr>\n",
       "    <tr>\n",
       "      <th>4</th>\n",
       "      <td>32</td>\n",
       "      <td>1</td>\n",
       "      <td>28.880</td>\n",
       "      <td>0</td>\n",
       "      <td>0</td>\n",
       "      <td>1</td>\n",
       "      <td>3866.85520</td>\n",
       "    </tr>\n",
       "  </tbody>\n",
       "</table>\n",
       "</div>"
      ],
      "text/plain": [
       "   age  sex     bmi  children  smoker  region      charges\n",
       "0   19    0  27.900         0       1       3  16884.92400\n",
       "1   18    1  33.770         1       0       2   1725.55230\n",
       "2   28    1  33.000         3       0       2   4449.46200\n",
       "3   33    1  22.705         0       0       1  21984.47061\n",
       "4   32    1  28.880         0       0       1   3866.85520"
      ]
     },
     "execution_count": 106,
     "metadata": {},
     "output_type": "execute_result"
    }
   ],
   "source": [
    "df2.head()"
   ]
  },
  {
   "cell_type": "code",
   "execution_count": 107,
   "id": "848ef14e",
   "metadata": {},
   "outputs": [],
   "source": [
    "x = df2.drop('charges',axis=1)\n",
    "y = df2['charges']"
   ]
  },
  {
   "cell_type": "code",
   "execution_count": 108,
   "id": "b92338c6",
   "metadata": {},
   "outputs": [],
   "source": [
    "from sklearn.model_selection import train_test_split as tts\n",
    "xtrain,xtest,ytrain,ytest = tts(x,y,test_size=0.3,random_state=78)"
   ]
  },
  {
   "cell_type": "code",
   "execution_count": 109,
   "id": "1933ad71",
   "metadata": {},
   "outputs": [
    {
     "data": {
      "text/html": [
       "<div>\n",
       "<style scoped>\n",
       "    .dataframe tbody tr th:only-of-type {\n",
       "        vertical-align: middle;\n",
       "    }\n",
       "\n",
       "    .dataframe tbody tr th {\n",
       "        vertical-align: top;\n",
       "    }\n",
       "\n",
       "    .dataframe thead th {\n",
       "        text-align: right;\n",
       "    }\n",
       "</style>\n",
       "<table border=\"1\" class=\"dataframe\">\n",
       "  <thead>\n",
       "    <tr style=\"text-align: right;\">\n",
       "      <th></th>\n",
       "      <th>age</th>\n",
       "      <th>sex</th>\n",
       "      <th>bmi</th>\n",
       "      <th>children</th>\n",
       "      <th>smoker</th>\n",
       "      <th>region</th>\n",
       "    </tr>\n",
       "  </thead>\n",
       "  <tbody>\n",
       "    <tr>\n",
       "      <th>62</th>\n",
       "      <td>64</td>\n",
       "      <td>1</td>\n",
       "      <td>24.700</td>\n",
       "      <td>1</td>\n",
       "      <td>0</td>\n",
       "      <td>1</td>\n",
       "    </tr>\n",
       "    <tr>\n",
       "      <th>861</th>\n",
       "      <td>38</td>\n",
       "      <td>0</td>\n",
       "      <td>28.000</td>\n",
       "      <td>3</td>\n",
       "      <td>0</td>\n",
       "      <td>3</td>\n",
       "    </tr>\n",
       "    <tr>\n",
       "      <th>973</th>\n",
       "      <td>19</td>\n",
       "      <td>0</td>\n",
       "      <td>40.500</td>\n",
       "      <td>0</td>\n",
       "      <td>0</td>\n",
       "      <td>3</td>\n",
       "    </tr>\n",
       "    <tr>\n",
       "      <th>209</th>\n",
       "      <td>40</td>\n",
       "      <td>1</td>\n",
       "      <td>41.230</td>\n",
       "      <td>1</td>\n",
       "      <td>0</td>\n",
       "      <td>0</td>\n",
       "    </tr>\n",
       "    <tr>\n",
       "      <th>849</th>\n",
       "      <td>55</td>\n",
       "      <td>1</td>\n",
       "      <td>32.775</td>\n",
       "      <td>0</td>\n",
       "      <td>0</td>\n",
       "      <td>1</td>\n",
       "    </tr>\n",
       "  </tbody>\n",
       "</table>\n",
       "</div>"
      ],
      "text/plain": [
       "     age  sex     bmi  children  smoker  region\n",
       "62    64    1  24.700         1       0       1\n",
       "861   38    0  28.000         3       0       3\n",
       "973   19    0  40.500         0       0       3\n",
       "209   40    1  41.230         1       0       0\n",
       "849   55    1  32.775         0       0       1"
      ]
     },
     "execution_count": 109,
     "metadata": {},
     "output_type": "execute_result"
    }
   ],
   "source": [
    "xtrain.head()"
   ]
  },
  {
   "cell_type": "code",
   "execution_count": 110,
   "id": "cbeb544b",
   "metadata": {},
   "outputs": [
    {
     "data": {
      "text/plain": [
       "62     30166.61817\n",
       "861     7151.09200\n",
       "973     1759.33800\n",
       "209     6610.10970\n",
       "849    10601.63225\n",
       "Name: charges, dtype: float64"
      ]
     },
     "execution_count": 110,
     "metadata": {},
     "output_type": "execute_result"
    }
   ],
   "source": [
    "ytrain.head()"
   ]
  },
  {
   "cell_type": "code",
   "execution_count": 111,
   "id": "3b1ddf6f",
   "metadata": {},
   "outputs": [
    {
     "data": {
      "text/html": [
       "<div>\n",
       "<style scoped>\n",
       "    .dataframe tbody tr th:only-of-type {\n",
       "        vertical-align: middle;\n",
       "    }\n",
       "\n",
       "    .dataframe tbody tr th {\n",
       "        vertical-align: top;\n",
       "    }\n",
       "\n",
       "    .dataframe thead th {\n",
       "        text-align: right;\n",
       "    }\n",
       "</style>\n",
       "<table border=\"1\" class=\"dataframe\">\n",
       "  <thead>\n",
       "    <tr style=\"text-align: right;\">\n",
       "      <th></th>\n",
       "      <th>age</th>\n",
       "      <th>sex</th>\n",
       "      <th>bmi</th>\n",
       "      <th>children</th>\n",
       "      <th>smoker</th>\n",
       "      <th>region</th>\n",
       "    </tr>\n",
       "  </thead>\n",
       "  <tbody>\n",
       "    <tr>\n",
       "      <th>160</th>\n",
       "      <td>42</td>\n",
       "      <td>0</td>\n",
       "      <td>26.600</td>\n",
       "      <td>0</td>\n",
       "      <td>1</td>\n",
       "      <td>1</td>\n",
       "    </tr>\n",
       "    <tr>\n",
       "      <th>1326</th>\n",
       "      <td>42</td>\n",
       "      <td>0</td>\n",
       "      <td>32.870</td>\n",
       "      <td>0</td>\n",
       "      <td>0</td>\n",
       "      <td>0</td>\n",
       "    </tr>\n",
       "    <tr>\n",
       "      <th>544</th>\n",
       "      <td>54</td>\n",
       "      <td>1</td>\n",
       "      <td>30.210</td>\n",
       "      <td>0</td>\n",
       "      <td>0</td>\n",
       "      <td>1</td>\n",
       "    </tr>\n",
       "    <tr>\n",
       "      <th>624</th>\n",
       "      <td>59</td>\n",
       "      <td>1</td>\n",
       "      <td>28.785</td>\n",
       "      <td>0</td>\n",
       "      <td>0</td>\n",
       "      <td>1</td>\n",
       "    </tr>\n",
       "    <tr>\n",
       "      <th>914</th>\n",
       "      <td>33</td>\n",
       "      <td>1</td>\n",
       "      <td>24.605</td>\n",
       "      <td>2</td>\n",
       "      <td>0</td>\n",
       "      <td>1</td>\n",
       "    </tr>\n",
       "  </tbody>\n",
       "</table>\n",
       "</div>"
      ],
      "text/plain": [
       "      age  sex     bmi  children  smoker  region\n",
       "160    42    0  26.600         0       1       1\n",
       "1326   42    0  32.870         0       0       0\n",
       "544    54    1  30.210         0       0       1\n",
       "624    59    1  28.785         0       0       1\n",
       "914    33    1  24.605         2       0       1"
      ]
     },
     "execution_count": 111,
     "metadata": {},
     "output_type": "execute_result"
    }
   ],
   "source": [
    "xtest.head()"
   ]
  },
  {
   "cell_type": "code",
   "execution_count": 112,
   "id": "677db4a9",
   "metadata": {},
   "outputs": [
    {
     "data": {
      "text/plain": [
       "160     21348.70600\n",
       "1326     7050.02130\n",
       "544     10231.49990\n",
       "624     12129.61415\n",
       "914      5257.50795\n",
       "Name: charges, dtype: float64"
      ]
     },
     "execution_count": 112,
     "metadata": {},
     "output_type": "execute_result"
    }
   ],
   "source": [
    "ytest.head()"
   ]
  },
  {
   "cell_type": "code",
   "execution_count": 113,
   "id": "ef6aa41b",
   "metadata": {},
   "outputs": [],
   "source": [
    "from sklearn.neighbors import KNeighborsRegressor"
   ]
  },
  {
   "cell_type": "code",
   "execution_count": 114,
   "id": "57fd637d",
   "metadata": {},
   "outputs": [],
   "source": [
    " ne = KNeighborsRegressor()"
   ]
  },
  {
   "cell_type": "code",
   "execution_count": 129,
   "id": "92f71710",
   "metadata": {},
   "outputs": [
    {
     "data": {
      "text/html": [
       "<style>#sk-container-id-5 {color: black;background-color: white;}#sk-container-id-5 pre{padding: 0;}#sk-container-id-5 div.sk-toggleable {background-color: white;}#sk-container-id-5 label.sk-toggleable__label {cursor: pointer;display: block;width: 100%;margin-bottom: 0;padding: 0.3em;box-sizing: border-box;text-align: center;}#sk-container-id-5 label.sk-toggleable__label-arrow:before {content: \"▸\";float: left;margin-right: 0.25em;color: #696969;}#sk-container-id-5 label.sk-toggleable__label-arrow:hover:before {color: black;}#sk-container-id-5 div.sk-estimator:hover label.sk-toggleable__label-arrow:before {color: black;}#sk-container-id-5 div.sk-toggleable__content {max-height: 0;max-width: 0;overflow: hidden;text-align: left;background-color: #f0f8ff;}#sk-container-id-5 div.sk-toggleable__content pre {margin: 0.2em;color: black;border-radius: 0.25em;background-color: #f0f8ff;}#sk-container-id-5 input.sk-toggleable__control:checked~div.sk-toggleable__content {max-height: 200px;max-width: 100%;overflow: auto;}#sk-container-id-5 input.sk-toggleable__control:checked~label.sk-toggleable__label-arrow:before {content: \"▾\";}#sk-container-id-5 div.sk-estimator input.sk-toggleable__control:checked~label.sk-toggleable__label {background-color: #d4ebff;}#sk-container-id-5 div.sk-label input.sk-toggleable__control:checked~label.sk-toggleable__label {background-color: #d4ebff;}#sk-container-id-5 input.sk-hidden--visually {border: 0;clip: rect(1px 1px 1px 1px);clip: rect(1px, 1px, 1px, 1px);height: 1px;margin: -1px;overflow: hidden;padding: 0;position: absolute;width: 1px;}#sk-container-id-5 div.sk-estimator {font-family: monospace;background-color: #f0f8ff;border: 1px dotted black;border-radius: 0.25em;box-sizing: border-box;margin-bottom: 0.5em;}#sk-container-id-5 div.sk-estimator:hover {background-color: #d4ebff;}#sk-container-id-5 div.sk-parallel-item::after {content: \"\";width: 100%;border-bottom: 1px solid gray;flex-grow: 1;}#sk-container-id-5 div.sk-label:hover label.sk-toggleable__label {background-color: #d4ebff;}#sk-container-id-5 div.sk-serial::before {content: \"\";position: absolute;border-left: 1px solid gray;box-sizing: border-box;top: 0;bottom: 0;left: 50%;z-index: 0;}#sk-container-id-5 div.sk-serial {display: flex;flex-direction: column;align-items: center;background-color: white;padding-right: 0.2em;padding-left: 0.2em;position: relative;}#sk-container-id-5 div.sk-item {position: relative;z-index: 1;}#sk-container-id-5 div.sk-parallel {display: flex;align-items: stretch;justify-content: center;background-color: white;position: relative;}#sk-container-id-5 div.sk-item::before, #sk-container-id-5 div.sk-parallel-item::before {content: \"\";position: absolute;border-left: 1px solid gray;box-sizing: border-box;top: 0;bottom: 0;left: 50%;z-index: -1;}#sk-container-id-5 div.sk-parallel-item {display: flex;flex-direction: column;z-index: 1;position: relative;background-color: white;}#sk-container-id-5 div.sk-parallel-item:first-child::after {align-self: flex-end;width: 50%;}#sk-container-id-5 div.sk-parallel-item:last-child::after {align-self: flex-start;width: 50%;}#sk-container-id-5 div.sk-parallel-item:only-child::after {width: 0;}#sk-container-id-5 div.sk-dashed-wrapped {border: 1px dashed gray;margin: 0 0.4em 0.5em 0.4em;box-sizing: border-box;padding-bottom: 0.4em;background-color: white;}#sk-container-id-5 div.sk-label label {font-family: monospace;font-weight: bold;display: inline-block;line-height: 1.2em;}#sk-container-id-5 div.sk-label-container {text-align: center;}#sk-container-id-5 div.sk-container {/* jupyter's `normalize.less` sets `[hidden] { display: none; }` but bootstrap.min.css set `[hidden] { display: none !important; }` so we also need the `!important` here to be able to override the default hidden behavior on the sphinx rendered scikit-learn.org. See: https://github.com/scikit-learn/scikit-learn/issues/21755 */display: inline-block !important;position: relative;}#sk-container-id-5 div.sk-text-repr-fallback {display: none;}</style><div id=\"sk-container-id-5\" class=\"sk-top-container\"><div class=\"sk-text-repr-fallback\"><pre>KNeighborsRegressor()</pre><b>In a Jupyter environment, please rerun this cell to show the HTML representation or trust the notebook. <br />On GitHub, the HTML representation is unable to render, please try loading this page with nbviewer.org.</b></div><div class=\"sk-container\" hidden><div class=\"sk-item\"><div class=\"sk-estimator sk-toggleable\"><input class=\"sk-toggleable__control sk-hidden--visually\" id=\"sk-estimator-id-5\" type=\"checkbox\" checked><label for=\"sk-estimator-id-5\" class=\"sk-toggleable__label sk-toggleable__label-arrow\">KNeighborsRegressor</label><div class=\"sk-toggleable__content\"><pre>KNeighborsRegressor()</pre></div></div></div></div></div>"
      ],
      "text/plain": [
       "KNeighborsRegressor()"
      ]
     },
     "execution_count": 129,
     "metadata": {},
     "output_type": "execute_result"
    }
   ],
   "source": [
    "ne = ne.fit(xtrain,ytrain)\n",
    "ne"
   ]
  },
  {
   "cell_type": "code",
   "execution_count": 117,
   "id": "431fa227",
   "metadata": {},
   "outputs": [
    {
     "data": {
      "text/plain": [
       "array([12874.13304  , 13028.46556  , 19412.193502 , 15777.896202 ,\n",
       "        7443.328862 , 15104.343912 , 19125.90898  , 12301.70639  ,\n",
       "        6377.0494   , 19417.970998 , 20453.132916 ,  5103.02032  ,\n",
       "        8261.09119  , 13932.486942 , 20198.930764 , 11147.49174  ,\n",
       "       14785.08715  , 16061.73351  ,  8152.190112 ,  6988.15699  ,\n",
       "       24351.30426  ,  9913.36071  ,  3254.67244  ,  3156.48049  ,\n",
       "       18971.62101  , 14187.943978 , 16004.4521   ,  5129.77881  ,\n",
       "        9716.145414 ,  8737.57039  ,  8435.46104  , 10361.54458  ,\n",
       "        1422.55854  , 33916.08512  ,  8471.18359  , 11235.62706  ,\n",
       "        2231.94811  , 19827.165054 ,  5624.24063  , 11981.5025   ,\n",
       "        5838.354906 , 21584.508244 , 11120.223362 , 14789.81738  ,\n",
       "       18394.345248 , 11161.581    ,  5040.39934  , 13113.283022 ,\n",
       "        7965.02172  ,  1790.21222  ,  8039.64828  ,  2354.72488  ,\n",
       "       15491.004556 , 12082.25992  ,  1796.75234  , 16454.37216  ,\n",
       "       10149.29681  ,  7305.12287  , 14328.772198 , 16969.526018 ,\n",
       "       13455.26214  , 15604.726514 ,  6156.28782  , 12420.079708 ,\n",
       "        6482.32571  ,  7946.42829  , 19826.599142 , 10885.62173  ,\n",
       "       11777.04646  ,  6010.2417438,  9503.17862  , 10336.797548 ,\n",
       "        5004.86338  , 10972.25634  , 15138.193006 ,  1477.70888  ,\n",
       "       16298.56238  ,  6133.45217  , 16881.27726  , 24008.351724 ,\n",
       "        8425.14872  , 11186.68794  , 19473.939822 , 21483.296986 ,\n",
       "       16678.869654 , 15107.68927  ,  7941.17154  ,  7427.485992 ,\n",
       "       14693.327774 , 11242.722756 ,  8229.839622 ,  8840.4628   ,\n",
       "       17142.200072 ,  8993.47108  ,  2165.62834  ,  8462.623438 ,\n",
       "       15192.935706 , 15732.1364   , 32336.702692 , 26893.829486 ,\n",
       "       30252.510626 ,  6584.001948 , 26034.65715  ,  9320.6031438,\n",
       "       15126.37502  ,  6502.10577  , 13563.52274  , 14549.923314 ,\n",
       "        5876.54116  ,  2553.82276  ,  4221.23397  , 18879.51784  ,\n",
       "        6108.08682  , 30139.934552 , 18189.191024 ,  9868.52304  ,\n",
       "        6598.62434  , 14881.39259  ,  9063.56938  ,  3926.60193  ,\n",
       "        4166.76891  , 10311.42034  , 31962.216254 ,  2025.75615  ,\n",
       "        8963.01153  ,  2632.67834  ,  4439.03009  , 20856.295382 ,\n",
       "        9799.49098  , 17348.836488 , 21181.987884 , 10111.79944  ,\n",
       "       21480.615578 ,  7519.51622  , 17535.26532  ,  9320.6031438,\n",
       "       20629.00162  ,  3318.03522  , 15520.7277   , 20759.82982  ,\n",
       "        7235.10688  , 13715.50726  , 23115.312634 , 11834.38781  ,\n",
       "       12980.05603  , 13807.291136 ,  8062.40472  ,  4811.40518  ,\n",
       "        9300.092438 , 13573.36391  , 27599.67724  , 21249.39192  ,\n",
       "       10336.797548 , 20699.61216  , 12891.933984 , 14352.541594 ,\n",
       "       14765.58735  , 17117.07324  , 11777.04646  ,  4327.70005  ,\n",
       "       21211.343742 , 16672.87496  , 13326.89812  ,  6732.11604  ,\n",
       "       17533.445042 , 16303.82494  , 23824.488942 , 12095.662736 ,\n",
       "       16510.9958   ,  6186.03233  , 16081.811126 , 12697.321862 ,\n",
       "        7575.85602  , 10166.470836 ,  2627.29965  , 16933.34349  ,\n",
       "        9582.48081  , 19429.806428 , 13967.9748   ,  9301.23583  ,\n",
       "       17392.12823  ,  7402.80411  , 18450.4536   , 11569.31502  ,\n",
       "       20073.708828 , 10223.9662   , 13164.65162  , 19706.609292 ,\n",
       "       15174.991392 ,  1531.13242  , 20178.603022 , 15198.49207  ,\n",
       "       11184.35659  , 20950.243246 , 15441.24598  ,  2720.66712  ,\n",
       "       14591.55025  , 15896.85491  , 10858.054332 , 15221.893414 ,\n",
       "       12113.06075  , 11766.27663  , 19854.60685  ,  8834.20994  ,\n",
       "        7171.63659  , 16241.110646 ,  6300.2003   ,  6975.6534   ,\n",
       "        3259.32124  , 13233.890402 ,  4944.66507  , 35317.3718   ,\n",
       "        4189.24723  ,  5991.08188  , 12171.30808  , 13882.045052 ,\n",
       "       21846.69705  , 13707.50381  ,  9433.00228  , 10357.91212  ,\n",
       "        8685.31517  ,  8970.35089  ,  6053.44911  , 16026.73525  ,\n",
       "       12266.52611  ,  8138.40018  ,  6766.576074 , 13479.959282 ,\n",
       "       10933.407852 ,  9276.544308 ,  4627.53118  ,  6791.10493  ,\n",
       "       15049.56016  , 14900.72928  , 14583.19235  , 11871.39874  ,\n",
       "       12356.02441  ,  7309.514    , 14549.923314 ,  6923.184784 ,\n",
       "       10495.91295  , 14168.84147  , 18239.486036 ,  8377.36185  ,\n",
       "        5911.61366  , 11537.37444  ,  6635.61427  , 18828.66187  ,\n",
       "        9405.08386  ,  6686.119    , 11920.7072   , 12819.612466 ,\n",
       "       13380.99656  , 11658.449238 , 12478.91949  ,  7759.142976 ,\n",
       "       21258.902062 ,  9107.41445  , 16566.599068 ,  5308.672654 ,\n",
       "       19893.4988   ,  6549.95903  , 12110.77845  , 14437.38907  ,\n",
       "       20932.433918 ,  8289.97844  ,  7643.4132   ,  7341.243952 ,\n",
       "       27048.729044 , 19378.540016 ,  5387.38462  ,  2238.70971  ,\n",
       "       16518.820602 ,  2783.62852  , 17042.14348  , 18875.711868 ,\n",
       "        5233.58938  , 14738.463776 , 11346.18487  , 21752.038864 ,\n",
       "       16118.9835   , 13559.90795  ,  7298.14438  ,  9555.49197  ,\n",
       "       11357.72098  ,  4871.67162  , 12536.35618  ,  7822.211364 ,\n",
       "        7843.47458  ,  7132.036808 , 15645.40073  , 13382.68418  ,\n",
       "       11168.35092  , 12197.40641  , 25124.910828 , 17880.01129  ,\n",
       "        8632.96032  , 10175.19179  ,  7385.98143  ,  1673.68025  ,\n",
       "       16284.816748 , 20157.13001  ,  7824.66501  , 20714.55483  ,\n",
       "        5896.92495  , 11609.15462  , 16026.73525  ,  9888.81591  ,\n",
       "        8888.80107  ,  5344.84769  , 11068.20791  ,  8385.574236 ,\n",
       "       10604.85658  ,  7760.8288   , 11320.11088  ,  7399.984722 ,\n",
       "       12624.50214  , 10236.21041  ,  7476.775634 , 13899.37379  ,\n",
       "        1422.55854  , 11184.35659  ,  4296.00089  ,  2936.06224  ,\n",
       "       15181.967812 ,  8423.52359  , 15638.656546 , 11981.5025   ,\n",
       "       13776.74866  , 13058.82616  ,  1774.48907  , 20568.58261  ,\n",
       "       23274.43199  , 14388.31416  , 11094.77946  , 13058.2948   ,\n",
       "        9267.61158  , 11524.34407  , 13355.38139  , 21142.14225  ,\n",
       "        1974.47329  ,  9605.952614 , 13203.034182 ,  2790.48752  ,\n",
       "        6872.713362 , 19976.2123   ,  6931.741088 ,  4145.99126  ,\n",
       "       29876.338146 ,  8138.234102 ,  8598.81515  , 11178.88182  ,\n",
       "       15737.711804 ,  6955.903842 ,  4022.59422  , 13262.67867  ,\n",
       "        9709.002468 ,  4022.59422  , 17018.98945  , 12356.68097  ,\n",
       "       12801.342964 , 18971.255164 ,  8617.9715   ,  2443.17332  ,\n",
       "       10680.254876 , 17791.536552 , 12966.37535  , 27523.374824 ,\n",
       "        8444.09534  , 11868.30342  ,  7557.23415  ,  4670.274    ,\n",
       "       18715.211848 ,  9213.44242  ,  4719.31477  , 10843.7612   ,\n",
       "       10098.34071  , 22097.915616 , 18076.131632 ,  7770.33803  ,\n",
       "        8432.1582   ,  8831.70117  ,  2976.80262  , 17792.78876  ,\n",
       "       19301.286942 , 12906.223112 ,  2309.96684  ,  9303.11201  ,\n",
       "       19733.943932 , 15822.068294 ,  9511.16427  ,  8420.57909  ,\n",
       "        8481.28334  , 12117.427    , 14242.29209  , 15965.5244   ,\n",
       "       20081.22664  ,  9774.73913  ,  5607.38608  ,  8820.26241  ,\n",
       "       13561.20305  , 11994.06095  ])"
      ]
     },
     "execution_count": 117,
     "metadata": {},
     "output_type": "execute_result"
    }
   ],
   "source": [
    "pred = ne.predict(xtest)\n",
    "pred"
   ]
  },
  {
   "cell_type": "code",
   "execution_count": 118,
   "id": "ae296efc",
   "metadata": {},
   "outputs": [
    {
     "data": {
      "text/plain": [
       "160     21348.70600\n",
       "1326     7050.02130\n",
       "544     10231.49990\n",
       "624     12129.61415\n",
       "914      5257.50795\n",
       "Name: charges, dtype: float64"
      ]
     },
     "execution_count": 118,
     "metadata": {},
     "output_type": "execute_result"
    }
   ],
   "source": [
    "ytest.head()"
   ]
  },
  {
   "cell_type": "code",
   "execution_count": 119,
   "id": "2261d613",
   "metadata": {},
   "outputs": [],
   "source": [
    "Log_score = ne.score(xtest,ytest)"
   ]
  },
  {
   "cell_type": "code",
   "execution_count": 120,
   "id": "84848ff7",
   "metadata": {},
   "outputs": [
    {
     "data": {
      "text/plain": [
       "0.1239003840616123"
      ]
     },
     "execution_count": 120,
     "metadata": {},
     "output_type": "execute_result"
    }
   ],
   "source": [
    "Log_score"
   ]
  },
  {
   "cell_type": "code",
   "execution_count": 121,
   "id": "b0a5382f",
   "metadata": {},
   "outputs": [],
   "source": [
    "from sklearn.metrics import mean_absolute_error,mean_squared_error"
   ]
  },
  {
   "cell_type": "code",
   "execution_count": 122,
   "id": "e2d6bac3",
   "metadata": {},
   "outputs": [],
   "source": [
    "mae2 = mean_absolute_error(ytest,pred)"
   ]
  },
  {
   "cell_type": "code",
   "execution_count": 123,
   "id": "7cc08dbb",
   "metadata": {},
   "outputs": [
    {
     "data": {
      "text/plain": [
       "7615.323471776617"
      ]
     },
     "execution_count": 123,
     "metadata": {},
     "output_type": "execute_result"
    }
   ],
   "source": [
    "mae2"
   ]
  },
  {
   "cell_type": "code",
   "execution_count": 124,
   "id": "1215b69a",
   "metadata": {},
   "outputs": [],
   "source": [
    "mse2 = mean_squared_error(ytest,pred)"
   ]
  },
  {
   "cell_type": "code",
   "execution_count": 125,
   "id": "7361458f",
   "metadata": {},
   "outputs": [
    {
     "data": {
      "text/plain": [
       "113834300.3487436"
      ]
     },
     "execution_count": 125,
     "metadata": {},
     "output_type": "execute_result"
    }
   ],
   "source": [
    "mse2"
   ]
  },
  {
   "cell_type": "code",
   "execution_count": 126,
   "id": "58c8f167",
   "metadata": {},
   "outputs": [],
   "source": [
    "data = {'Name':['KNN_mae','KNN_mse','KNN_accuracy'],\n",
    "       'Accuracy':[mae2,mse2,Log_score]}\n",
    "df_after_pred2 = pd.DataFrame(data=data)"
   ]
  },
  {
   "cell_type": "code",
   "execution_count": 127,
   "id": "483259fc",
   "metadata": {},
   "outputs": [
    {
     "data": {
      "text/html": [
       "<div>\n",
       "<style scoped>\n",
       "    .dataframe tbody tr th:only-of-type {\n",
       "        vertical-align: middle;\n",
       "    }\n",
       "\n",
       "    .dataframe tbody tr th {\n",
       "        vertical-align: top;\n",
       "    }\n",
       "\n",
       "    .dataframe thead th {\n",
       "        text-align: right;\n",
       "    }\n",
       "</style>\n",
       "<table border=\"1\" class=\"dataframe\">\n",
       "  <thead>\n",
       "    <tr style=\"text-align: right;\">\n",
       "      <th></th>\n",
       "      <th>Name</th>\n",
       "      <th>Accuracy</th>\n",
       "    </tr>\n",
       "  </thead>\n",
       "  <tbody>\n",
       "    <tr>\n",
       "      <th>0</th>\n",
       "      <td>KNN_mae</td>\n",
       "      <td>7.615323e+03</td>\n",
       "    </tr>\n",
       "    <tr>\n",
       "      <th>1</th>\n",
       "      <td>KNN_mse</td>\n",
       "      <td>1.138343e+08</td>\n",
       "    </tr>\n",
       "    <tr>\n",
       "      <th>2</th>\n",
       "      <td>KNN_accuracy</td>\n",
       "      <td>1.239004e-01</td>\n",
       "    </tr>\n",
       "  </tbody>\n",
       "</table>\n",
       "</div>"
      ],
      "text/plain": [
       "           Name      Accuracy\n",
       "0       KNN_mae  7.615323e+03\n",
       "1       KNN_mse  1.138343e+08\n",
       "2  KNN_accuracy  1.239004e-01"
      ]
     },
     "execution_count": 127,
     "metadata": {},
     "output_type": "execute_result"
    }
   ],
   "source": [
    "df_after_pred2.head()"
   ]
  },
  {
   "cell_type": "code",
   "execution_count": 128,
   "id": "a85fae68",
   "metadata": {},
   "outputs": [
    {
     "data": {
      "text/plain": [
       "<Axes: xlabel='Accuracy', ylabel='Name'>"
      ]
     },
     "execution_count": 128,
     "metadata": {},
     "output_type": "execute_result"
    },
    {
     "data": {
      "image/png": "[encoded data removed]",
      "text/plain": [
       "<Figure size 640x480 with 1 Axes>"
      ]
     },
     "metadata": {},
     "output_type": "display_data"
    }
   ],
   "source": [
    "sns.barplot(x='Accuracy',y='Name',data= df_after_pred2)"
   ]
  }
 ],
 "metadata": {
  "kernelspec": {
   "display_name": "Python 3 (ipykernel)",
   "language": "python",
   "name": "python3"
  },
  "language_info": {
   "codemirror_mode": {
    "name": "ipython",
    "version": 3
   },
   "file_extension": ".py",
   "mimetype": "text/x-python",
   "name": "python",
   "nbconvert_exporter": "python",
   "pygments_lexer": "ipython3",
   "version": "3.11.3"
  }
 },
 "nbformat": 4,
 "nbformat_minor": 5
}
